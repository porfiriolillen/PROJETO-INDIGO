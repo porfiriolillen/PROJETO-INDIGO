{
 "cells": [
  {
   "cell_type": "code",
   "execution_count": null,
   "metadata": {},
   "outputs": [],
   "source": [
    "import pandas as pd\n",
    "import numpy as np\n",
    "\n",
    "# Carregar os dados\n",
    "dados = pd.read_csv('UppEvolucaoMensalDeTitulos.csv', encoding='latin1', sep=';')\n",
    "\n",
    "# Exibir as primeiras 5 linhas para uma visão inicial\n",
    "display(dados.head())\n",
    "\n",
    "# Gerar as estatísticas descritivas\n",
    "estatistica = dados.describe()\n",
    "display(estatistica)\n",
    "\n",
    "# Criar uma cópia do DataFrame\n",
    "df_copia = dados.copy()\n",
    "\n",
    "# Exibir a cópia\n",
    "display(df_copia)\n",
    "\n",
    "# Filtrando os dados para os anos entre 2020 e 2024\n",
    "dados_filtrados = dados[dados['ano'].between(2020, 2024)]\n",
    "\n",
    "# Agrupar por UPP e Ano, e calcular o total de homicídios dolosos\n",
    "dados_agrupados = dados_filtrados.groupby(['upp', 'ano'])['homicidios_dolosos'].sum().reset_index()\n",
    "\n",
    "# Calcular a diferença de homicídios dolosos entre 2024 e 2020 para cada UPP\n",
    "homicidios_2020 = dados_agrupados[dados_agrupados['ano'] == 2020][['upp', 'homicidios_dolosos']]\n",
    "homicidios_2024 = dados_agrupados[dados_agrupados['ano'] == 2024][['upp', 'homicidios_dolosos']]\n",
    "\n",
    "# Juntar os dados de 2020 e 2024 para calcular a diferença\n",
    "dados_comparacao = pd.merge(homicidios_2020, homicidios_2024, on='upp', suffixes=('_2020', '_2024'))\n",
    "\n",
    "# Calcular o aumento de homicídios dolosos\n",
    "dados_comparacao['aumento'] = dados_comparacao['homicidios_dolosos_2024'] - dados_comparacao['homicidios_dolosos_2020']\n",
    "\n",
    "# Exibir as UPPs com o aumento de homicídios dolosos\n",
    "display(dados_comparacao)\n",
    "\n",
    "# Ordenar as UPPs pelo maior aumento\n",
    "dados_comparacao_ordenado = dados_comparacao.sort_values(by='aumento', ascending=False)\n",
    "\n",
    "# Exibir a UPP com o maior aumento\n",
    "display(dados_comparacao_ordenado.head(1))\n"
   ]
  }
 ],
 "metadata": {
  "language_info": {
   "name": "python"
  }
 },
 "nbformat": 4,
 "nbformat_minor": 2
}
